{
 "cells": [
  {
   "cell_type": "code",
   "execution_count": 2,
   "metadata": {
    "collapsed": true
   },
   "outputs": [],
   "source": [
    "import pandas as pd\n",
    "import numpy as np"
   ]
  },
  {
   "cell_type": "code",
   "execution_count": 10,
   "metadata": {
    "collapsed": false
   },
   "outputs": [
    {
     "data": {
      "text/html": [
       "<div>\n",
       "<table border=\"1\" class=\"dataframe\">\n",
       "  <thead>\n",
       "    <tr style=\"text-align: right;\">\n",
       "      <th></th>\n",
       "      <th>Name</th>\n",
       "      <th>Divide</th>\n",
       "      <th>Value</th>\n",
       "      <th>Date</th>\n",
       "      <th>Comment</th>\n",
       "    </tr>\n",
       "  </thead>\n",
       "  <tbody>\n",
       "    <tr>\n",
       "      <th>0</th>\n",
       "      <td>Car</td>\n",
       "      <td>MAN</td>\n",
       "      <td>£395</td>\n",
       "      <td>NaN</td>\n",
       "      <td>Excluding Petrol and Lost Deposit atm</td>\n",
       "    </tr>\n",
       "    <tr>\n",
       "      <th>1</th>\n",
       "      <td>Hotel(general expenses)</td>\n",
       "      <td>5</td>\n",
       "      <td>£620</td>\n",
       "      <td>All</td>\n",
       "      <td>Approx</td>\n",
       "    </tr>\n",
       "    <tr>\n",
       "      <th>2</th>\n",
       "      <td>Hotel specific (tbc) mac</td>\n",
       "      <td>MAN</td>\n",
       "      <td>50</td>\n",
       "      <td>All</td>\n",
       "      <td>Approx</td>\n",
       "    </tr>\n",
       "    <tr>\n",
       "      <th>3</th>\n",
       "      <td>Casino</td>\n",
       "      <td>4S</td>\n",
       "      <td>12.65</td>\n",
       "      <td>5th</td>\n",
       "      <td>NaN</td>\n",
       "    </tr>\n",
       "    <tr>\n",
       "      <th>4</th>\n",
       "      <td>Casino</td>\n",
       "      <td>4S</td>\n",
       "      <td>6.18</td>\n",
       "      <td>6th</td>\n",
       "      <td>Cereal</td>\n",
       "    </tr>\n",
       "    <tr>\n",
       "      <th>5</th>\n",
       "      <td>Bread</td>\n",
       "      <td>5</td>\n",
       "      <td>60</td>\n",
       "      <td>To 14th</td>\n",
       "      <td>(12 x ~5)</td>\n",
       "    </tr>\n",
       "    <tr>\n",
       "      <th>6</th>\n",
       "      <td>Casino</td>\n",
       "      <td>4S</td>\n",
       "      <td>60.75</td>\n",
       "      <td>6th</td>\n",
       "      <td>NaN</td>\n",
       "    </tr>\n",
       "    <tr>\n",
       "      <th>7</th>\n",
       "      <td>Casino</td>\n",
       "      <td>E</td>\n",
       "      <td>39.49</td>\n",
       "      <td>4th</td>\n",
       "      <td>Ella</td>\n",
       "    </tr>\n",
       "    <tr>\n",
       "      <th>8</th>\n",
       "      <td>Casino</td>\n",
       "      <td>4S</td>\n",
       "      <td>37.88</td>\n",
       "      <td>4th</td>\n",
       "      <td>Ella'</td>\n",
       "    </tr>\n",
       "    <tr>\n",
       "      <th>9</th>\n",
       "      <td>Casino</td>\n",
       "      <td>MAN</td>\n",
       "      <td>11.23</td>\n",
       "      <td>3rd</td>\n",
       "      <td>Alex paid (Towel)</td>\n",
       "    </tr>\n",
       "    <tr>\n",
       "      <th>10</th>\n",
       "      <td>Toll</td>\n",
       "      <td>4E</td>\n",
       "      <td>5.70</td>\n",
       "      <td>1st</td>\n",
       "      <td>NaN</td>\n",
       "    </tr>\n",
       "    <tr>\n",
       "      <th>11</th>\n",
       "      <td>Super U</td>\n",
       "      <td>4E</td>\n",
       "      <td>24.06</td>\n",
       "      <td>1st</td>\n",
       "      <td>NaN</td>\n",
       "    </tr>\n",
       "    <tr>\n",
       "      <th>12</th>\n",
       "      <td>Casino</td>\n",
       "      <td>4E</td>\n",
       "      <td>99.72</td>\n",
       "      <td>2nd</td>\n",
       "      <td>NaN</td>\n",
       "    </tr>\n",
       "    <tr>\n",
       "      <th>13</th>\n",
       "      <td>Dinner</td>\n",
       "      <td>MAN</td>\n",
       "      <td>71</td>\n",
       "      <td>7th</td>\n",
       "      <td>(14 EP 13AM and 17S +10%)</td>\n",
       "    </tr>\n",
       "    <tr>\n",
       "      <th>14</th>\n",
       "      <td>Casino</td>\n",
       "      <td>4S</td>\n",
       "      <td>26.27</td>\n",
       "      <td>8th</td>\n",
       "      <td>Rest Day Brunch Work</td>\n",
       "    </tr>\n",
       "    <tr>\n",
       "      <th>15</th>\n",
       "      <td>Petrol FR</td>\n",
       "      <td>5</td>\n",
       "      <td>49</td>\n",
       "      <td>8th</td>\n",
       "      <td>Confirmed</td>\n",
       "    </tr>\n",
       "    <tr>\n",
       "      <th>16</th>\n",
       "      <td>Baths</td>\n",
       "      <td>MAN</td>\n",
       "      <td>25.50</td>\n",
       "      <td>8th</td>\n",
       "      <td>MJ paid 4S tab; (Ella paid for herself)</td>\n",
       "    </tr>\n",
       "    <tr>\n",
       "      <th>17</th>\n",
       "      <td>Casino</td>\n",
       "      <td>E</td>\n",
       "      <td>18.35</td>\n",
       "      <td>9th</td>\n",
       "      <td>Ella</td>\n",
       "    </tr>\n",
       "    <tr>\n",
       "      <th>18</th>\n",
       "      <td>Casino</td>\n",
       "      <td>4S</td>\n",
       "      <td>36.65</td>\n",
       "      <td>9th</td>\n",
       "      <td>Ella'</td>\n",
       "    </tr>\n",
       "    <tr>\n",
       "      <th>19</th>\n",
       "      <td>Casino</td>\n",
       "      <td>5</td>\n",
       "      <td>9.08</td>\n",
       "      <td>10th</td>\n",
       "      <td>Washing up stuff</td>\n",
       "    </tr>\n",
       "    <tr>\n",
       "      <th>20</th>\n",
       "      <td>Casino</td>\n",
       "      <td>E</td>\n",
       "      <td>12</td>\n",
       "      <td>11th</td>\n",
       "      <td>Ella</td>\n",
       "    </tr>\n",
       "    <tr>\n",
       "      <th>21</th>\n",
       "      <td>Casino</td>\n",
       "      <td>4S</td>\n",
       "      <td>57</td>\n",
       "      <td>11th</td>\n",
       "      <td>Ella'</td>\n",
       "    </tr>\n",
       "    <tr>\n",
       "      <th>22</th>\n",
       "      <td>Carre</td>\n",
       "      <td>5</td>\n",
       "      <td>5</td>\n",
       "      <td>12th</td>\n",
       "      <td>Roll</td>\n",
       "    </tr>\n",
       "    <tr>\n",
       "      <th>23</th>\n",
       "      <td>Casino</td>\n",
       "      <td>4S</td>\n",
       "      <td>35.46</td>\n",
       "      <td>13th</td>\n",
       "      <td>Standard stuff</td>\n",
       "    </tr>\n",
       "    <tr>\n",
       "      <th>24</th>\n",
       "      <td>Resource Transfer</td>\n",
       "      <td>MAN</td>\n",
       "      <td>£100</td>\n",
       "      <td>14th</td>\n",
       "      <td>Ella to Crout</td>\n",
       "    </tr>\n",
       "    <tr>\n",
       "      <th>25</th>\n",
       "      <td>Dinner2</td>\n",
       "      <td>MAN</td>\n",
       "      <td>93.50</td>\n",
       "      <td>14th</td>\n",
       "      <td>S14 A13 E25.50 MP 20.50 +tax</td>\n",
       "    </tr>\n",
       "    <tr>\n",
       "      <th>26</th>\n",
       "      <td>Casino</td>\n",
       "      <td>4S</td>\n",
       "      <td>22.27</td>\n",
       "      <td>15th</td>\n",
       "      <td>NaN</td>\n",
       "    </tr>\n",
       "    <tr>\n",
       "      <th>27</th>\n",
       "      <td>Fondu</td>\n",
       "      <td>MAN</td>\n",
       "      <td>30</td>\n",
       "      <td>15th</td>\n",
       "      <td>Ella paid</td>\n",
       "    </tr>\n",
       "    <tr>\n",
       "      <th>28</th>\n",
       "      <td>Perpi</td>\n",
       "      <td>MAN</td>\n",
       "      <td>70+5+5</td>\n",
       "      <td>16th</td>\n",
       "      <td>For Mac and Alex</td>\n",
       "    </tr>\n",
       "    <tr>\n",
       "      <th>29</th>\n",
       "      <td>Sunda</td>\n",
       "      <td>MAN</td>\n",
       "      <td>3</td>\n",
       "      <td>17th</td>\n",
       "      <td>Scott and Ella</td>\n",
       "    </tr>\n",
       "    <tr>\n",
       "      <th>30</th>\n",
       "      <td>Petrol</td>\n",
       "      <td>5</td>\n",
       "      <td>24</td>\n",
       "      <td>17th</td>\n",
       "      <td>Second FR fill up excluding some Perp tax</td>\n",
       "    </tr>\n",
       "    <tr>\n",
       "      <th>31</th>\n",
       "      <td>Petrol</td>\n",
       "      <td>4E</td>\n",
       "      <td>31.71</td>\n",
       "      <td>18th</td>\n",
       "      <td>Final Fill up</td>\n",
       "    </tr>\n",
       "    <tr>\n",
       "      <th>32</th>\n",
       "      <td>Tolls</td>\n",
       "      <td>4E</td>\n",
       "      <td>11.80</td>\n",
       "      <td>18th</td>\n",
       "      <td>NaN</td>\n",
       "    </tr>\n",
       "  </tbody>\n",
       "</table>\n",
       "</div>"
      ],
      "text/plain": [
       "                        Name Divide   Value     Date  \\\n",
       "0                        Car    MAN    £395      NaN   \n",
       "1    Hotel(general expenses)      5    £620      All   \n",
       "2   Hotel specific (tbc) mac    MAN      50      All   \n",
       "3                     Casino     4S   12.65      5th   \n",
       "4                     Casino     4S    6.18      6th   \n",
       "5                      Bread      5      60  To 14th   \n",
       "6                     Casino     4S   60.75      6th   \n",
       "7                     Casino      E   39.49      4th   \n",
       "8                     Casino     4S   37.88      4th   \n",
       "9                     Casino    MAN   11.23      3rd   \n",
       "10                      Toll     4E    5.70      1st   \n",
       "11                   Super U     4E   24.06      1st   \n",
       "12                    Casino     4E   99.72      2nd   \n",
       "13                    Dinner    MAN      71      7th   \n",
       "14                    Casino     4S   26.27      8th   \n",
       "15                 Petrol FR      5      49      8th   \n",
       "16                     Baths    MAN   25.50      8th   \n",
       "17                    Casino      E   18.35      9th   \n",
       "18                    Casino     4S   36.65      9th   \n",
       "19                    Casino      5    9.08     10th   \n",
       "20                    Casino      E      12     11th   \n",
       "21                    Casino     4S      57     11th   \n",
       "22                     Carre      5       5     12th   \n",
       "23                    Casino     4S   35.46     13th   \n",
       "24         Resource Transfer    MAN    £100     14th   \n",
       "25                   Dinner2    MAN   93.50     14th   \n",
       "26                    Casino     4S   22.27     15th   \n",
       "27                     Fondu    MAN      30     15th   \n",
       "28                     Perpi    MAN  70+5+5     16th   \n",
       "29                     Sunda    MAN       3     17th   \n",
       "30                    Petrol      5      24     17th   \n",
       "31                    Petrol     4E   31.71     18th   \n",
       "32                     Tolls     4E   11.80     18th   \n",
       "\n",
       "                                       Comment  \n",
       "0        Excluding Petrol and Lost Deposit atm  \n",
       "1                                       Approx  \n",
       "2                                       Approx  \n",
       "3                                          NaN  \n",
       "4                                       Cereal  \n",
       "5                                    (12 x ~5)  \n",
       "6                                          NaN  \n",
       "7                                         Ella  \n",
       "8                                        Ella'  \n",
       "9                            Alex paid (Towel)  \n",
       "10                                         NaN  \n",
       "11                                         NaN  \n",
       "12                                         NaN  \n",
       "13                   (14 EP 13AM and 17S +10%)  \n",
       "14                        Rest Day Brunch Work  \n",
       "15                                   Confirmed  \n",
       "16     MJ paid 4S tab; (Ella paid for herself)  \n",
       "17                                        Ella  \n",
       "18                                       Ella'  \n",
       "19                            Washing up stuff  \n",
       "20                                        Ella  \n",
       "21                                       Ella'  \n",
       "22                                        Roll  \n",
       "23                              Standard stuff  \n",
       "24                               Ella to Crout  \n",
       "25                S14 A13 E25.50 MP 20.50 +tax  \n",
       "26                                         NaN  \n",
       "27                                   Ella paid  \n",
       "28                            For Mac and Alex  \n",
       "29                              Scott and Ella  \n",
       "30   Second FR fill up excluding some Perp tax  \n",
       "31                               Final Fill up  \n",
       "32                                         NaN  "
      ]
     },
     "execution_count": 10,
     "metadata": {},
     "output_type": "execute_result"
    }
   ],
   "source": [
    "spreadsheet = pd.read_csv('font_expenses.csv')\n",
    "spreadsheet"
   ]
  },
  {
   "cell_type": "code",
   "execution_count": 11,
   "metadata": {
    "collapsed": false
   },
   "outputs": [
    {
     "name": "stdout",
     "output_type": "stream",
     "text": [
      "                        Name   Value                                  Comment\n",
      "0                        Car    £395    Excluding Petrol and Lost Deposit atm\n",
      "2   Hotel specific (tbc) mac      50                                   Approx\n",
      "9                     Casino   11.23                        Alex paid (Towel)\n",
      "13                    Dinner      71                (14 EP 13AM and 17S +10%)\n",
      "16                     Baths   25.50  MJ paid 4S tab; (Ella paid for herself)\n",
      "24         Resource Transfer    £100                            Ella to Crout\n",
      "25                   Dinner2   93.50             S14 A13 E25.50 MP 20.50 +tax\n",
      "27                     Fondu      30                                Ella paid\n",
      "28                     Perpi  70+5+5                         For Mac and Alex\n",
      "29                     Sunda       3                           Scott and Ella\n"
     ]
    }
   ],
   "source": [
    "print(spreadsheet[spreadsheet.Divide=='MAN'][['Name','Value','Comment']])"
   ]
  },
  {
   "cell_type": "code",
   "execution_count": 5,
   "metadata": {
    "collapsed": false
   },
   "outputs": [
    {
     "data": {
      "text/plain": [
       "array(['5', '4S', 'E', '4E'], dtype=object)"
      ]
     },
     "execution_count": 5,
     "metadata": {},
     "output_type": "execute_result"
    }
   ],
   "source": [
    "spreadsheet = spreadsheet[spreadsheet.Divide!='MAN']\n",
    "#spreadsheet.head()\n",
    "spreadsheet.Divide.unique()\n"
   ]
  },
  {
   "cell_type": "code",
   "execution_count": 6,
   "metadata": {
    "collapsed": false
   },
   "outputs": [],
   "source": [
    "spreadsheet = spreadsheet[1:] #everyone hits 620/5 == 124 for rent.\n",
    "value = 'Value'\n",
    "spreadsheet[[value]] = spreadsheet[[value]].apply(pd.to_numeric)\n",
    "group = spreadsheet.groupby(spreadsheet.Divide)[value].sum()"
   ]
  },
  {
   "cell_type": "code",
   "execution_count": 7,
   "metadata": {
    "collapsed": false
   },
   "outputs": [
    {
     "name": "stdout",
     "output_type": "stream",
     "text": [
      "Divide\n",
      "4E    172.99\n",
      "4S    295.11\n",
      "5     147.08\n",
      "E      69.84\n",
      "Name: Value (Euro by default), dtype: float64\n"
     ]
    }
   ],
   "source": [
    "array = group.values\n",
    "print(group)"
   ]
  },
  {
   "cell_type": "code",
   "execution_count": 20,
   "metadata": {
    "collapsed": false
   },
   "outputs": [],
   "source": [
    "E = [0.25, 0,    0.2, 1]\n",
    "M = [0.25, 0.25, 0.2, 0]\n",
    "S = [0,    0.25, 0.2, 0]"
   ]
  },
  {
   "cell_type": "code",
   "execution_count": 21,
   "metadata": {
    "collapsed": false
   },
   "outputs": [],
   "source": [
    "E = np.sum(array*E)/1.09\n",
    "M = np.sum(array*M)/1.09\n",
    "S = np.sum(array*S)/1.09"
   ]
  },
  {
   "cell_type": "code",
   "execution_count": 24,
   "metadata": {
    "collapsed": false
   },
   "outputs": [
    {
     "name": "stdout",
     "output_type": "stream",
     "text": [
      "Ella spend is 130.737155963\n",
      "AM spend is 134.349541284\n",
      "S spend is 94.6729357798\n"
     ]
    }
   ],
   "source": [
    "print('Ella spend is ' + str(E))\n",
    "print('AM spend is ' + str(M))\n",
    "print('S spend is ' + str(S))\n",
    "### Using the Euro at 1.09 to the pound"
   ]
  },
  {
   "cell_type": "code",
   "execution_count": 31,
   "metadata": {
    "collapsed": false
   },
   "outputs": [
    {
     "name": "stdout",
     "output_type": "stream",
     "text": [
      "                        Name   Value                                  Comment\n",
      "0                        Car    £395    Excluding Petrol and Lost Deposit atm\n",
      "2   Hotel specific (tbc) mac      50                                   Approx\n",
      "9                     Casino   11.23                        Alex paid (Towel)\n",
      "13                    Dinner      71                (14 EP 13AM and 17S +10%)\n",
      "16                     Baths   25.50  MJ paid 4S tab; (Ella paid for herself)\n",
      "24         Resource Transfer    £100                            Ella to Crout\n",
      "25                   Dinner2   93.50             S14 A13 E25.50 MP 20.50 +tax\n",
      "27                     Fondu      30                                Ella paid\n",
      "28                     Perpi  70+5+5                         For Mac and Alex\n",
      "29                     Sunda       3                           Scott and Ella\n"
     ]
    }
   ],
   "source": [
    "print(spreadsheet[spreadsheet.Divide=='MAN'][['Name','Value','Comment']])"
   ]
  },
  {
   "cell_type": "code",
   "execution_count": 25,
   "metadata": {
    "collapsed": false
   },
   "outputs": [
    {
     "ename": "SyntaxError",
     "evalue": "illegal expression for augmented assignment (<ipython-input-25-673f3dfd1602>, line 2)",
     "output_type": "error",
     "traceback": [
      "\u001b[1;36m  File \u001b[1;32m\"<ipython-input-25-673f3dfd1602>\"\u001b[1;36m, line \u001b[1;32m2\u001b[0m\n\u001b[1;33m    M,E += 395/5\u001b[0m\n\u001b[1;37m                ^\u001b[0m\n\u001b[1;31mSyntaxError\u001b[0m\u001b[1;31m:\u001b[0m illegal expression for augmented assignment\n"
     ]
    }
   ],
   "source": [
    "## all add 395/5\n",
    "E += 395/5\n",
    "M += 395/5\n",
    "S += 395/5\n",
    "## tbc (Ella 10+5 and then Scott +5 and Mac got a free +5) - rest goes 5 ways\n",
    "E += 10    #T\n",
    "E += 10/3\n",
    "S += 10/3\n",
    "M += 10/3\n",
    "## ignore\n",
    "## Sum up\n",
    "## Magic MJ\n",
    "## deduct 100 from E\n",
    "E -= 100\n",
    "## Sum up\n",
    "# split S and M pay Crout 10 and Crout pays Ella 20\n",
    "S += 10\n",
    "M += 10\n",
    "E -= 20\n",
    "## Perpi\n",
    "M += 80\n",
    "A += 80\n",
    "## Final snackkette\n",
    "S += 3\n",
    "E += 3"
   ]
  },
  {
   "cell_type": "code",
   "execution_count": 33,
   "metadata": {
    "collapsed": false
   },
   "outputs": [],
   "source": [
    "## SETTLE UP MAC"
   ]
  },
  {
   "cell_type": "code",
   "execution_count": null,
   "metadata": {
    "collapsed": true
   },
   "outputs": [],
   "source": []
  }
 ],
 "metadata": {
  "anaconda-cloud": {},
  "kernelspec": {
   "display_name": "Python [Root]",
   "language": "python",
   "name": "Python [Root]"
  },
  "language_info": {
   "codemirror_mode": {
    "name": "ipython",
    "version": 3
   },
   "file_extension": ".py",
   "mimetype": "text/x-python",
   "name": "python",
   "nbconvert_exporter": "python",
   "pygments_lexer": "ipython3",
   "version": "3.5.2"
  }
 },
 "nbformat": 4,
 "nbformat_minor": 0
}
