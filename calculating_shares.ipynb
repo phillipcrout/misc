{
 "cells": [
  {
   "cell_type": "code",
   "execution_count": 6,
   "metadata": {
    "collapsed": true
   },
   "outputs": [],
   "source": [
    "import pandas as pd\n",
    "import numpy as np"
   ]
  },
  {
   "cell_type": "code",
   "execution_count": 74,
   "metadata": {
    "collapsed": false
   },
   "outputs": [],
   "source": [
    "spreadsheet = pd.read_csv('font_expenses.csv')\n",
    "spreadsheet = spreadsheet[pd.notnull(spreadsheet['Divide'])]\n",
    "#spreadsheet.Divide.unique()\n",
    "value = 'Value (Euro by default)'\n",
    "spreadsheet[[value]] = spreadsheet[[value]].apply(pd.to_numeric)\n",
    "group = spreadsheet.groupby(spreadsheet.Divide)[value].sum()"
   ]
  },
  {
   "cell_type": "code",
   "execution_count": 96,
   "metadata": {
    "collapsed": false
   },
   "outputs": [
    {
     "name": "stdout",
     "output_type": "stream",
     "text": [
      "Divide\n",
      "-      11.23\n",
      "4E    129.48\n",
      "4S    205.88\n",
      "5      59.08\n",
      "C      71.00\n",
      "E      57.84\n",
      "Name: Value (Euro by default), dtype: float64\n"
     ]
    }
   ],
   "source": [
    "array = group.values\n",
    "print(group)"
   ]
  },
  {
   "cell_type": "code",
   "execution_count": 94,
   "metadata": {
    "collapsed": false
   },
   "outputs": [],
   "source": [
    "E = [0, 0.25, 0,    0.2, 0, 1]\n",
    "M = [0, 0.25, 0.25, 0.2, 0, 0]\n",
    "S = [0, 0,    0.25, 0.2, 0, 0]"
   ]
  },
  {
   "cell_type": "code",
   "execution_count": 97,
   "metadata": {
    "collapsed": false
   },
   "outputs": [
    {
     "name": "stdout",
     "output_type": "stream",
     "text": [
      "Ella spend is 102.026\n",
      "PAM spend is 95.656\n",
      "S spend is 63.286\n"
     ]
    }
   ],
   "source": [
    "print('Ella spend is ' + str(np.sum(array*E)))\n",
    "print('PAM spend is ' + str(np.sum(array*M)))\n",
    "print('S spend is ' + str(np.sum(array*S)))"
   ]
  },
  {
   "cell_type": "code",
   "execution_count": null,
   "metadata": {
    "collapsed": true
   },
   "outputs": [],
   "source": []
  }
 ],
 "metadata": {
  "anaconda-cloud": {},
  "kernelspec": {
   "display_name": "Python [Root]",
   "language": "python",
   "name": "Python [Root]"
  },
  "language_info": {
   "codemirror_mode": {
    "name": "ipython",
    "version": 3
   },
   "file_extension": ".py",
   "mimetype": "text/x-python",
   "name": "python",
   "nbconvert_exporter": "python",
   "pygments_lexer": "ipython3",
   "version": "3.5.2"
  }
 },
 "nbformat": 4,
 "nbformat_minor": 0
}
